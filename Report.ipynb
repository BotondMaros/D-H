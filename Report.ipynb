{
 "cells": [
  {
   "cell_type": "markdown",
   "metadata": {},
   "source": [
    "## Docler Holding take home assignment\n",
    "Classification task - 3rd June 2020\n",
    "\n",
    "This report concludes my results and findings about the problems in take home assignment. The problems are the following: \n",
    "- use the cifar-10 dataset and a selected CNN model to classify the data (only use 1000 images for traning)\n",
    "- modify the network to produce 2 outputs\n",
    "- optimize the neural network and evaluate metrics\n",
    "\n",
    "\n",
    "This notebook only presents the result. The code base \" modified_mobilenet_1k_baseline.py \" can found at project's the directory. The libraries I used are: `Pytorch`, `numpy`, `matplotlib`.\n",
    "\n"
   ]
  },
  {
   "cell_type": "markdown",
   "metadata": {},
   "source": [
    "### 0. Understanding the data\n",
    "The cifar-10 dataset consists of 60000 images of 10 classes. These classes are: plane, car, bird, cat,\n",
    "deer, dog, frog, horse, ship, truck. The dataset is balanced, each class consists of 6000 images. The images were downloaded from: https://www.cs.toronto.edu/~kriz/cifar.html. The data can be found under the directory \"/data\". This contains 6 pickled data files: data_batch_1-5, and test_batch. Originally the data_batches were used for traning, but we will only use a smaller subset of the data to train the network."
   ]
  },
  {
   "cell_type": "code",
   "execution_count": 1,
   "metadata": {},
   "outputs": [],
   "source": [
    "import modified_mobilenet_1k_baseline as base #import scripts I wrote\n",
    "import torch.nn as nn\n",
    "import torch.optim as optim\n",
    "import torch as torch\n",
    "import numpy as np\n",
    "import matplotlib.pyplot as plt\n",
    "from collections import Counter"
   ]
  },
  {
   "cell_type": "markdown",
   "metadata": {},
   "source": [
    "First, let's unpickle the data, extract images and labels. The we have to reshape the images as they were stored as row vectors of size 1x1024. We will reshape them to size 32x32."
   ]
  },
  {
   "cell_type": "code",
   "execution_count": 2,
   "metadata": {},
   "outputs": [
    {
     "name": "stdout",
     "output_type": "stream",
     "text": [
      "(60000, 3, 32, 32)\n"
     ]
    }
   ],
   "source": [
    "#unpickle the data , extract images and labels\n",
    "#get data to shape of 32x32\n",
    "PATH = \"data\"\n",
    "data, labels = base.load_all(PATH)\n",
    "data = base.get_shape_32x32(data)\n",
    "print(data.shape) "
   ]
  },
  {
   "cell_type": "markdown",
   "metadata": {},
   "source": [
    "Now we have a dataset that consisting of 60000 images, 3 color channels and 32x32 size. We can see at the following cell that we have indeed a balanced dataset, each class consists of 6000 images."
   ]
  },
  {
   "cell_type": "code",
   "execution_count": 3,
   "metadata": {},
   "outputs": [
    {
     "name": "stdout",
     "output_type": "stream",
     "text": [
      "Counter({6: 6000, 9: 6000, 4: 6000, 1: 6000, 2: 6000, 7: 6000, 8: 6000, 3: 6000, 5: 6000, 0: 6000})\n",
      "2\n"
     ]
    },
    {
     "data": {
      "image/png": "[encoded data removed]",
      "text/plain": [
       "<Figure size 432x288 with 1 Axes>"
      ]
     },
     "metadata": {
      "needs_background": "light"
     },
     "output_type": "display_data"
    }
   ],
   "source": [
    "print(Counter(labels))\n",
    "\n",
    "#showing one data point\n",
    "example = data[123]/255\n",
    "example = torch.Tensor(example)\n",
    "plt.imshow(example.permute(1, 2, 0))\n",
    "\n",
    "classes = ('plane', 'car', 'bird', 'cat',\n",
    "           'deer', 'dog', 'frog', 'horse', 'ship', 'truck')\n",
    "print(labels[123]) #returns 2, classes[2] == bird"
   ]
  },
  {
   "cell_type": "markdown",
   "metadata": {},
   "source": [
    "### 1. Prepare the data\n",
    "\n",
    "The task was to select 1000 images from this dataset. For this, I selected 100 images from each class. The reason I did this is I assumed that the data is i.i.d. and I can randomly sample from it, and I wanted to train the network on a balanced dataset. \n",
    "I calculated an index set which contains the indeces for traning."
   ]
  },
  {
   "cell_type": "code",
   "execution_count": 4,
   "metadata": {},
   "outputs": [],
   "source": [
    "#calcualte index set: will use to split dataset\n",
    "#we will randomly sample 100 images from each class to have a balanced dataset\n",
    "indeces = base.get_100_from_each(labels)"
   ]
  },
  {
   "cell_type": "markdown",
   "metadata": {},
   "source": [
    "Method used: create an empty list where we will store the labels.\n",
    "From each class select 100 occurences with np.random.choice(all_class_id,size=100,replace=False)\n",
    "\n",
    "#### Preprocessing\n",
    "Next, I divided each data point to have values between 0-1, than calcualted the mean and standard deviation for the dataset, to normalize each data point. I also splitted the dataset into train-test data and labels. The following function `base.normalize_split()` does these steps. Note that at this point I did not use any other data transformation than normalization."
   ]
  },
  {
   "cell_type": "code",
   "execution_count": 5,
   "metadata": {},
   "outputs": [
    {
     "name": "stdout",
     "output_type": "stream",
     "text": [
      "Counter({9: 100, 5: 100, 6: 100, 4: 100, 1: 100, 2: 100, 3: 100, 8: 100, 0: 100, 7: 100})\n"
     ]
    }
   ],
   "source": [
    "#normalize each data point, split data to two PyTorch datasets \n",
    "train_data, train_labels, test_data, test_labels = base.normalize_split(indeces, data, labels)\n",
    "print(Counter(train_labels))"
   ]
  },
  {
   "cell_type": "markdown",
   "metadata": {},
   "source": [
    "Next, I created a dataset and `dataLoader` PyTorch objects. These will store the data tensors and the labels. "
   ]
  },
  {
   "cell_type": "code",
   "execution_count": 6,
   "metadata": {},
   "outputs": [],
   "source": [
    "#create PyTorch datasets with batch size 32\n",
    "train_dataloader, test_dataloader = base.create_dataset(train_data, test_data, train_labels, test_labels, 32)"
   ]
  },
  {
   "cell_type": "markdown",
   "metadata": {},
   "source": [
    "### 2. Selecting a model and modifying the model\n",
    "The model I selected to train on this dataset is the MobileNetV2. The reason I choose this model is that it achieves similar results than deeper convolutional models, but it has much less parameters to learn. This network is ideal for low resource devices (such as mobiles). This network only has ~4.2M parameters while, for example, ResNet-101 has ~58M.\n",
    "\n",
    "MobileV2Net uses an inverted residual structure, and it has depthwise and pointwise convolutional layers. (https://arxiv.org/abs/1801.04381)\n",
    "\n",
    "I also had to modify the network to have a second output that always produces ones.\n",
    "To do the following, I rewrote the forward function of the code to be:\n",
    "`def forward(self, x):\n",
    "     x = self.features(x)\n",
    "     x = x.mean([2, 3])\n",
    "     x1 = self.classifier(x)\n",
    "     x2 = torch.ones((x.shape))\n",
    "     return x1, x2`\n",
    "\n",
    "This will return two outputs, x1 being the original output of the network and x2 being a dummy tensor of the same shape as x1. This dummy only contains 1-s. \n",
    "\n",
    "To my best understanding, I did not have to train the model on both of these outputs, only on the original output. If I have to train on both the outputs, I would rewrite the following in the training:\n",
    "\n",
    "` for i, data in enumerate(train_dataloader, 0):\n",
    "    inputs, labels = data\n",
    "    optimizer.zero_grad()\n",
    "    outputs, outputs2 = net(inputs)\n",
    "    loss1 = criterion(outputs, labels)\n",
    "    loss2 = criterion(outputs2, labels) \n",
    "    loss= loss1 + loss2\n",
    "    loss.backward()\n",
    "    optimizer.step()`\n",
    "\n",
    "Next let's initialise the model with Cross-entropy loss and RMSprop optimizer.\n",
    "Cross-entropy loss is often used in multi label classificatin and it increases as the predicted probability diverges from the actual label. RMSprop is an adaptive optimizer that uses a moving average of squared gradients to 'normalise' the weights."
   ]
  },
  {
   "cell_type": "code",
   "execution_count": 7,
   "metadata": {},
   "outputs": [],
   "source": [
    "net = base.mobilenet_v2(pretrained=False)\n",
    "criterion = nn.CrossEntropyLoss()\n",
    "optimizer = optim.RMSprop(net.parameters(), lr=0.0005, momentum=0.9, weight_decay=4e-5)"
   ]
  },
  {
   "cell_type": "markdown",
   "metadata": {},
   "source": [
    "I trained this model in Colab \"modified_mobilenet_train.ipynb\" and saved the model parameters. The Colab notebook can be also found in the project's folder. Let's load in the model parameters and make some predictions."
   ]
  },
  {
   "cell_type": "code",
   "execution_count": 8,
   "metadata": {},
   "outputs": [],
   "source": [
    "saved_model = 'modified_model_1k_2'\n",
    "checkpoint = torch.load(saved_model,map_location=torch.device('cpu'))\n",
    "net.load_state_dict(checkpoint['model_state_dict'])\n",
    "optimizer.load_state_dict(checkpoint['optimizer_state_dict'])\n",
    "epoch = checkpoint['epoch']\n",
    "criterion = checkpoint['loss']"
   ]
  },
  {
   "cell_type": "markdown",
   "metadata": {},
   "source": [
    "#### Regularization\n",
    "I used weight decay (L2 Regularization) in the optimizer and batch normalization in the network to optimize the network."
   ]
  },
  {
   "cell_type": "markdown",
   "metadata": {},
   "source": [
    "### 3. Evaluate the model\n",
    "I will plot a graph that was made during traning to show the loss. This is to avoid overfitting.\n",
    "\n",
    "I will also show the accuracy of the prediction for the whole dataset and for each classes."
   ]
  },
  {
   "cell_type": "markdown",
   "metadata": {},
   "source": [
    "Losses during traning (trained for 10 epochs):\n",
    "<img src=\"losses.png\">"
   ]
  },
  {
   "cell_type": "code",
   "execution_count": 9,
   "metadata": {},
   "outputs": [
    {
     "name": "stdout",
     "output_type": "stream",
     "text": [
      "Accuracy of the network on the 59000 test images: 31 %\n"
     ]
    }
   ],
   "source": [
    "#evaluate the model\n",
    "correct = 0\n",
    "total = 0\n",
    "with torch.no_grad():\n",
    "    for data in test_dataloader:\n",
    "        images, labels = data\n",
    "\n",
    "        outputs,outputs2 = net(images)\n",
    "        _, predicted = torch.max(outputs.data, 1)\n",
    "        total += labels.size(0)\n",
    "        correct += (predicted == labels).sum().item()\n",
    "\n",
    "print('Accuracy of the network on the 59000 test images: %d %%' % (\n",
    "    100 * correct / total))"
   ]
  },
  {
   "cell_type": "markdown",
   "metadata": {},
   "source": [
    "Achieved accuracy on the test set is 31% which is really low, but the same model with the same parameters achieved 68%, using 50k images to train and 10k images to test. I conclude that this is not a horrible accuracy given that we only use 1k images to train."
   ]
  },
  {
   "cell_type": "code",
   "execution_count": 10,
   "metadata": {},
   "outputs": [
    {
     "name": "stdout",
     "output_type": "stream",
     "text": [
      "tensor([-1.4897, -5.4772,  3.1550,  3.6973,  2.1079,  3.7830,  1.3772,  0.6955,\n",
      "        -2.1807, -3.3048], grad_fn=<SelectBackward>)\n",
      "tensor([1., 1., 1.,  ..., 1., 1., 1.])\n"
     ]
    }
   ],
   "source": [
    "#demonstrate that the model produces the actual output and the dummy output:\n",
    "for data in test_dataloader:\n",
    "        images, labels = data\n",
    "        outputs, outputs2 = net(images)\n",
    "        _, predicted = torch.max(outputs.data, 1)\n",
    "        print(outputs[0])\n",
    "        print(outputs2[0])\n",
    "        break"
   ]
  },
  {
   "cell_type": "markdown",
   "metadata": {},
   "source": [
    "Now let's see how many of the missclassification error concentrates in some classes. For this we will show the accuracy predicted for each class."
   ]
  },
  {
   "cell_type": "code",
   "execution_count": 11,
   "metadata": {},
   "outputs": [],
   "source": [
    "class_correct = list(0. for i in range(10))\n",
    "class_total = list(0. for i in range(10))\n",
    "with torch.no_grad():\n",
    "    for data in test_dataloader:\n",
    "        images, labels = data\n",
    "\n",
    "        outputs,outputs2 = net(images)\n",
    "        _, predicted = torch.max(outputs, 1)\n",
    "        c = (predicted == labels).squeeze()\n",
    "        for i in range(4):\n",
    "            label = labels[i]\n",
    "            class_correct[label] += c[i].item()\n",
    "            class_total[label] += 1"
   ]
  },
  {
   "cell_type": "code",
   "execution_count": 12,
   "metadata": {},
   "outputs": [
    {
     "name": "stdout",
     "output_type": "stream",
     "text": [
      "Accuracy of plane : 56 %\n",
      "Accuracy of   car : 43 %\n",
      "Accuracy of  bird : 28 %\n",
      "Accuracy of   cat : 10 %\n",
      "Accuracy of  deer :  6 %\n",
      "Accuracy of   dog : 37 %\n",
      "Accuracy of  frog : 44 %\n",
      "Accuracy of horse : 39 %\n",
      "Accuracy of  ship : 21 %\n",
      "Accuracy of truck : 32 %\n"
     ]
    }
   ],
   "source": [
    "for i in range(10):\n",
    "    print('Accuracy of %5s : %2d %%' % (\n",
    "        classes[i], 100 * class_correct[i] / class_total[i]))"
   ]
  },
  {
   "cell_type": "markdown",
   "metadata": {},
   "source": [
    "We can see that for example labels truck and cat has low accuracy. "
   ]
  },
  {
   "cell_type": "markdown",
   "metadata": {},
   "source": [
    "### 4. Next steps\n",
    "If I had more time, I would do the followings:\n",
    "1. Data augmentation - usually improves accuracy and helps avoiding overfitting. This would include randomCrop and flipping the images.\n",
    "2. Selecting a different subset of images. We can see that some classes perform well like plane or frog, while other classes such as cat or deer have really low accuracy. We can try to manually increase the traning examples for the low accuracy classes and decrease for higher accuracy classes. We can also take a look at the confusion matrix to see the correlation between the missclassified images.\n",
    "3. Transfer learning - using knowlegde from a different dataset\n",
    "4. Hyper-parameter tuning. This includes: epochs, batch size, optimizer parameters.\n",
    "\n",
    "5. To deploy the model I would use Flask API"
   ]
  },
  {
   "cell_type": "code",
   "execution_count": null,
   "metadata": {},
   "outputs": [],
   "source": []
  }
 ],
 "metadata": {
  "kernelspec": {
   "display_name": "Python 3",
   "language": "python",
   "name": "python3"
  },
  "language_info": {
   "codemirror_mode": {
    "name": "ipython",
    "version": 3
   },
   "file_extension": ".py",
   "mimetype": "text/x-python",
   "name": "python",
   "nbconvert_exporter": "python",
   "pygments_lexer": "ipython3",
   "version": "3.8.2"
  }
 },
 "nbformat": 4,
 "nbformat_minor": 4
}
