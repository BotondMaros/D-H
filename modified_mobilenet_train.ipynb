{
  "nbformat": 4,
  "nbformat_minor": 0,
  "metadata": {
    "colab": {
      "name": "modified_mobilenet_train.ipynb",
      "provenance": [],
      "collapsed_sections": []
    },
    "kernelspec": {
      "name": "python3",
      "display_name": "Python 3"
    },
    "accelerator": "GPU"
  },
  "cells": [
    {
      "cell_type": "code",
      "metadata": {
        "id": "vU13ySBgOWQS",
        "colab_type": "code",
        "colab": {}
      },
      "source": [
        "import pickle\n",
        "import os\n",
        "import numpy as np \n",
        "import torch\n",
        "import torch.nn as nn\n",
        "import torch.nn.functional as F\n",
        "import torch.optim as optim\n",
        "from torchvision import transforms\n",
        "from collections import Counter\n",
        "from torch.utils.data import TensorDataset, DataLoader\n",
        "import math"
      ],
      "execution_count": 0,
      "outputs": []
    },
    {
      "cell_type": "code",
      "metadata": {
        "id": "qSo_YaYVlNis",
        "colab_type": "code",
        "colab": {
          "base_uri": "https://localhost:8080/",
          "height": 34
        },
        "outputId": "96d889f5-b054-4843-edd6-1c9770924dbf"
      },
      "source": [
        "device = torch.device(\"cuda:0\" if torch.cuda.is_available() else \"cpu\")\n",
        "print(device)"
      ],
      "execution_count": 2,
      "outputs": [
        {
          "output_type": "stream",
          "text": [
            "cuda:0\n"
          ],
          "name": "stdout"
        }
      ]
    },
    {
      "cell_type": "code",
      "metadata": {
        "id": "H6cfb2u7O-Fh",
        "colab_type": "code",
        "colab": {}
      },
      "source": [
        "def unpickle(file):\n",
        "    '''unpickles the data into a dictionary'''\n",
        "    with open(file, 'rb') as foo:\n",
        "        dictionary = pickle.load(foo, encoding='latin1')\n",
        "    return dictionary\n",
        "\n",
        "def transform_batch(dictionary):\n",
        "    '''Transforms the data into arrays and labels'''\n",
        "    X = dictionary['data']\n",
        "    Y = dictionary['labels']\n",
        "    X = X.reshape(10000,3072)\n",
        "    Y = np.array(Y)\n",
        "    return X, Y\n",
        "\n",
        "def load_all(PATH):\n",
        "    '''loads in all the data_batch(1-5) and the test_batch'''\n",
        "    filenames = os.listdir(PATH)\n",
        "    filenames = [i for i in filenames if 'data_batch' in i]\n",
        "\n",
        "    data, labels = [], []\n",
        "    for i in range(1,6):\n",
        "        dict_ = unpickle(PATH+\"/data_batch_\"+str(i))\n",
        "        X_, Y_ = transform_batch(dict_)\n",
        "        data.append(X_)\n",
        "        labels.append(Y_)\n",
        "    dict_ = unpickle(PATH+\"/test_batch\")\n",
        "    X_, Y_ = transform_batch(dict_)\n",
        "    data.append(X_)\n",
        "    labels.append(Y_)\n",
        "\n",
        "    data = np.concatenate(data)\n",
        "    labels = np.concatenate(labels)\n",
        "    return data, labels\n",
        "    \n",
        "\n",
        "\n",
        "def get_shape_32x32(data):\n",
        "    data = data.reshape(len(data),3,32,32)\n",
        "    print(data.shape)\n",
        "    return data\n"
      ],
      "execution_count": 0,
      "outputs": []
    },
    {
      "cell_type": "code",
      "metadata": {
        "id": "H_VNmky-RBg5",
        "colab_type": "code",
        "colab": {}
      },
      "source": [
        "def normalize(data):\n",
        "    global mean_, std_\n",
        "    data = data.astype('float32')\n",
        "    data /= 255 \n",
        "    mean_ = list(data.mean(axis=(0,2,3)))\n",
        "    std_ = list(data.std(axis=(0,2,3)))\n",
        "    data = torch.from_numpy(data)\n",
        "    preprocess = transforms.Compose([transforms.Normalize(mean=mean_, std=std_)])\n",
        "    \n",
        "    for i in range(0,len(data)):\n",
        "        data[i] = preprocess(data[i])\n",
        "\n",
        "    return data"
      ],
      "execution_count": 0,
      "outputs": []
    },
    {
      "cell_type": "code",
      "metadata": {
        "id": "qYazcwucZGNb",
        "colab_type": "code",
        "outputId": "722b4967-4821-4bb0-cccb-03065dbeb328",
        "colab": {
          "base_uri": "https://localhost:8080/",
          "height": 34
        }
      },
      "source": [
        "PATH = \"/content\"\n",
        "data, labels = load_all(PATH)\n",
        "data = get_shape_32x32(data)\n",
        "Counter(labels)\n",
        "data = normalize(data)\n",
        "\n",
        "classes = ('plane', 'car', 'bird', 'cat',\n",
        "           'deer', 'dog', 'frog', 'horse', 'ship', 'truck')"
      ],
      "execution_count": 5,
      "outputs": [
        {
          "output_type": "stream",
          "text": [
            "(60000, 3, 32, 32)\n"
          ],
          "name": "stdout"
        }
      ]
    },
    {
      "cell_type": "code",
      "metadata": {
        "id": "hDWQAmrkb2vD",
        "colab_type": "code",
        "outputId": "f6bd9c9d-8640-48f1-97a6-d8eece772e4b",
        "colab": {
          "base_uri": "https://localhost:8080/",
          "height": 34
        }
      },
      "source": [
        "def get_100_from_each(labels):\n",
        "    #selects 1000 indeces from labels, 100/class\n",
        "    subset_ids = []\n",
        "\n",
        "    for i in range(0,10):\n",
        "        class_ids_ = np.where(labels == i) #show id's of labels where class is 'i'\n",
        "        class_ids_subset_ = np.random.choice(class_ids_[0],size=100, replace=False,p=None) #select 100 ids from a class\n",
        "        subset_ids.extend(class_ids_subset_)\n",
        "    return subset_ids\n",
        "\n",
        "indeces = get_100_from_each(labels) #indexes \n",
        "print(len(indeces))"
      ],
      "execution_count": 6,
      "outputs": [
        {
          "output_type": "stream",
          "text": [
            "1000\n"
          ],
          "name": "stdout"
        }
      ]
    },
    {
      "cell_type": "code",
      "metadata": {
        "id": "rHq2iD-eaNg4",
        "colab_type": "code",
        "outputId": "12ef7a22-9219-4490-f11d-1ddf36d7caad",
        "colab": {
          "base_uri": "https://localhost:8080/",
          "height": 34
        }
      },
      "source": [
        "train_data, train_labels, test_data, test_labels = [], [], [], []\n",
        "\n",
        "for i in range(0,60000):\n",
        "    if i in indeces:\n",
        "        train_data.append(data[i])\n",
        "        train_labels.append(labels[i])\n",
        "    else:\n",
        "        test_data.append(data[i])\n",
        "        test_labels.append(labels[i])\n",
        "print(len(train_data))"
      ],
      "execution_count": 7,
      "outputs": [
        {
          "output_type": "stream",
          "text": [
            "1000\n"
          ],
          "name": "stdout"
        }
      ]
    },
    {
      "cell_type": "code",
      "metadata": {
        "id": "JPAQhkUGiyLU",
        "colab_type": "code",
        "outputId": "5231fde3-9e2b-437a-ad9e-f020f875511e",
        "colab": {
          "base_uri": "https://localhost:8080/",
          "height": 187
        }
      },
      "source": [
        "Counter(train_labels)"
      ],
      "execution_count": 8,
      "outputs": [
        {
          "output_type": "execute_result",
          "data": {
            "text/plain": [
              "Counter({0: 100,\n",
              "         1: 100,\n",
              "         2: 100,\n",
              "         3: 100,\n",
              "         4: 100,\n",
              "         5: 100,\n",
              "         6: 100,\n",
              "         7: 100,\n",
              "         8: 100,\n",
              "         9: 100})"
            ]
          },
          "metadata": {
            "tags": []
          },
          "execution_count": 8
        }
      ]
    },
    {
      "cell_type": "code",
      "metadata": {
        "id": "KyiMfQ5oK4Xn",
        "colab_type": "code",
        "colab": {}
      },
      "source": [
        "X_train = torch.stack(train_data)\n",
        "X_test = torch.stack(test_data)\n",
        "y_train = torch.LongTensor(train_labels)\n",
        "y_test = torch.LongTensor(test_labels)\n",
        "\n",
        "train_dataset = TensorDataset(X_train,y_train)\n",
        "train_dataloader = DataLoader(train_dataset,batch_size=32)\n",
        "test_dataset = TensorDataset(X_test,y_test)\n",
        "test_dataloader = DataLoader(test_dataset,batch_size=32)\n",
        "\n",
        "BATCH=32"
      ],
      "execution_count": 0,
      "outputs": []
    },
    {
      "cell_type": "code",
      "metadata": {
        "id": "2esBLY46eOqs",
        "colab_type": "code",
        "colab": {}
      },
      "source": [
        "__all__ = ['MobileNetV2', 'mobilenet_v2']\n",
        "\n",
        "\n",
        "class ConvBNReLU(nn.Sequential):\n",
        "    def __init__(self, in_planes, out_planes, kernel_size=3, stride=1, groups=1):\n",
        "        padding = (kernel_size - 1) // 2\n",
        "        super(ConvBNReLU, self).__init__(\n",
        "            nn.Conv2d(in_planes, out_planes, kernel_size, stride, padding, groups=groups, bias=False),\n",
        "            nn.BatchNorm2d(out_planes),\n",
        "            nn.ReLU6(inplace=True)\n",
        "        )\n",
        "\n",
        "\n",
        "class InvertedResidual(nn.Module):\n",
        "    def __init__(self, inp, oup, stride, expand_ratio):\n",
        "        super(InvertedResidual, self).__init__()\n",
        "        self.stride = stride\n",
        "        assert stride in [1, 2]\n",
        "\n",
        "        hidden_dim = int(round(inp * expand_ratio))\n",
        "        self.use_res_connect = self.stride == 1 and inp == oup\n",
        "\n",
        "        layers = []\n",
        "        if expand_ratio != 1:\n",
        "            # pw\n",
        "            layers.append(ConvBNReLU(inp, hidden_dim, kernel_size=1))\n",
        "        layers.extend([\n",
        "            # dw\n",
        "            ConvBNReLU(hidden_dim, hidden_dim, stride=stride, groups=hidden_dim),\n",
        "            # pw-linear\n",
        "            nn.Conv2d(hidden_dim, oup, 1, 1, 0, bias=False),\n",
        "            nn.BatchNorm2d(oup),\n",
        "        ])\n",
        "        self.conv = nn.Sequential(*layers)\n",
        "\n",
        "    def forward(self, x):\n",
        "        if self.use_res_connect:\n",
        "            return x + self.conv(x)\n",
        "        else:\n",
        "            return self.conv(x)\n",
        "\n",
        "\n",
        "class MobileNetV2(nn.Module):\n",
        "    def __init__(self, num_classes=10, width_mult=1.0):\n",
        "        super(MobileNetV2, self).__init__()\n",
        "        block = InvertedResidual\n",
        "        input_channel = 32\n",
        "        last_channel = 1280\n",
        "        \n",
        "        ## CIFAR10\n",
        "        inverted_residual_setting = [\n",
        "            # t, c, n, s\n",
        "            [1, 16, 1, 1],\n",
        "            [6, 24, 2, 1], # Stride 2 -> 1 for CIFAR-10\n",
        "            [6, 32, 3, 2],\n",
        "            [6, 64, 4, 2],\n",
        "            [6, 96, 3, 1],\n",
        "            [6, 160, 3, 2],\n",
        "            [6, 320, 1, 1],\n",
        "        ]\n",
        "        ## END\n",
        "\n",
        "        # building first layer\n",
        "        input_channel = int(input_channel * width_mult)\n",
        "        self.last_channel = int(last_channel * max(1.0, width_mult))\n",
        "        \n",
        "        # CIFAR10: stride 2 -> 1\n",
        "        features = [ConvBNReLU(3, input_channel, stride=1)]\n",
        "        # END\n",
        "        \n",
        "        # building inverted residual blocks\n",
        "        for t, c, n, s in inverted_residual_setting:\n",
        "            output_channel = int(c * width_mult)\n",
        "            for i in range(n):\n",
        "                stride = s if i == 0 else 1\n",
        "                features.append(block(input_channel, output_channel, stride, expand_ratio=t))\n",
        "                input_channel = output_channel\n",
        "        # building last several layers\n",
        "        features.append(ConvBNReLU(input_channel, self.last_channel, kernel_size=1))\n",
        "        # make it nn.Sequential\n",
        "        self.features = nn.Sequential(*features)\n",
        "\n",
        "        # building classifier\n",
        "        self.classifier = nn.Sequential(\n",
        "            nn.Dropout(0.2),\n",
        "            nn.Linear(self.last_channel, num_classes),\n",
        "        )\n",
        "\n",
        "        # weight initialization\n",
        "        for m in self.modules():\n",
        "            if isinstance(m, nn.Conv2d):\n",
        "                nn.init.kaiming_normal_(m.weight, mode='fan_out')\n",
        "                if m.bias is not None:\n",
        "                    nn.init.zeros_(m.bias)\n",
        "            elif isinstance(m, nn.BatchNorm2d):\n",
        "                nn.init.ones_(m.weight)\n",
        "                nn.init.zeros_(m.bias)\n",
        "            elif isinstance(m, nn.Linear):\n",
        "                nn.init.normal_(m.weight, 0, 0.01)\n",
        "                nn.init.zeros_(m.bias)\n",
        "\n",
        "   \n",
        "    def forward(self, x):\n",
        "        x = self.features(x)\n",
        "        x = x.mean([2, 3])\n",
        "        x1 = self.classifier(x)\n",
        "        x2 = torch.ones((x.shape))\n",
        "        x2=x2.cuda()\n",
        "        return x1, x2\n",
        "\n",
        "\n",
        "def mobilenet_v2(pretrained=False, progress=True, device='cpu', **kwargs):\n",
        "    \"\"\"\n",
        "    Constructs a MobileNetV2 architecture from\n",
        "    `\"MobileNetV2: Inverted Residuals and Linear Bottlenecks\" <https://arxiv.org/abs/1801.04381>`_.\n",
        "    Args:\n",
        "        pretrained (bool): If True, returns a model pre-trained on ImageNet\n",
        "        progress (bool): If True, displays a progress bar of the download to stderr\n",
        "    \"\"\"\n",
        "    model = MobileNetV2(**kwargs)\n",
        "    if pretrained:\n",
        "        try:\n",
        "            from torch.hub import load_state_dict_from_url\n",
        "        except ImportError:\n",
        "            from torch.utils.model_zoo import load_url as load_state_dict_from_url\n",
        "        state_dict = load_state_dict_from_url(\n",
        "            'https://www.dropbox.com/s/47tyzpofuuyyv1b/mobilenetv2_1.0-f2a8633.pth.tar?dl=1', progress=True)\n",
        "        model.load_state_dict(state_dict)\n",
        "    return model"
      ],
      "execution_count": 0,
      "outputs": []
    },
    {
      "cell_type": "code",
      "metadata": {
        "id": "5NSE27I5IUBv",
        "colab_type": "code",
        "colab": {}
      },
      "source": [
        "net = mobilenet_v2(pretrained=False) #right now can't use true\n",
        "net.cuda()\n",
        "criterion = nn.CrossEntropyLoss()\n",
        "optimizer = optim.RMSprop(net.parameters(), lr=0.0005, momentum=0.9, weight_decay=4e-5)\n"
      ],
      "execution_count": 0,
      "outputs": []
    },
    {
      "cell_type": "code",
      "metadata": {
        "id": "sDEt8wLRflcb",
        "colab_type": "code",
        "outputId": "9cc9a8eb-616a-41f4-83a5-e7199fc4f0b6",
        "colab": {
          "base_uri": "https://localhost:8080/",
          "height": 34
        }
      },
      "source": [
        "\n",
        "losses = []\n",
        "for epoch in range(10):  # loop over the dataset multiple times\n",
        "\n",
        "    running_loss = 0.0\n",
        "    run_loss = 0.0\n",
        "    for i, data in enumerate(train_dataloader, 0):\n",
        "        # get the inputs; data is a list of [inputs, labels]\n",
        "        inputs, labels = data\n",
        "        inputs = inputs.cuda()\n",
        "        labels=labels.cuda()\n",
        "\n",
        "\n",
        "        # zero the parameter gradients\n",
        "        optimizer.zero_grad()\n",
        "\n",
        "        # forward + backward + optimize\n",
        "        outputs, outputs2 = net(inputs)\n",
        "\n",
        "        loss = criterion(outputs, labels)\n",
        "        \n",
        "        loss.backward()\n",
        "        optimizer.step()\n",
        "\n",
        "        # print statistics\n",
        "        running_loss += loss.item()\n",
        "        run_loss += loss.item()\n",
        "        if i % 50 == 49:    # print every 2000 mini-batches\n",
        "            print('[%d, %5d] loss: %.3f' %\n",
        "                  (epoch + 1, i + 1, running_loss / 50))\n",
        "            running_loss = 0.0\n",
        "    epoch_loss = run_loss/len(train_dataloader)\n",
        "    losses.append(epoch_loss)\n",
        "\n",
        "print('Finished Training')"
      ],
      "execution_count": 12,
      "outputs": [
        {
          "output_type": "stream",
          "text": [
            "Finished Training\n"
          ],
          "name": "stdout"
        }
      ]
    },
    {
      "cell_type": "code",
      "metadata": {
        "id": "bfWLKpDkvLSo",
        "colab_type": "code",
        "colab": {
          "base_uri": "https://localhost:8080/",
          "height": 319
        },
        "outputId": "0655e0d4-279d-4070-94b1-3319020fdae3"
      },
      "source": [
        "print(losses)\n",
        "import matplotlib.pyplot as plt\n",
        "\n",
        "plt.plot(losses)"
      ],
      "execution_count": 13,
      "outputs": [
        {
          "output_type": "stream",
          "text": [
            "[2.77437861263752, 2.1825511157512665, 1.9913193620741367, 1.9313098825514317, 1.8896504119038582, 1.8122431375086308, 1.7189403213560581, 1.6582192946225405, 1.6777787990868092, 1.609028048813343]\n"
          ],
          "name": "stdout"
        },
        {
          "output_type": "execute_result",
          "data": {
            "text/plain": [
              "[<matplotlib.lines.Line2D at 0x7f30c04855f8>]"
            ]
          },
          "metadata": {
            "tags": []
          },
          "execution_count": 13
        },
        {
          "output_type": "display_data",
          "data": {
            "image/png": "[encoded data removed]",
            "text/plain": [
              "<Figure size 432x288 with 1 Axes>"
            ]
          },
          "metadata": {
            "tags": [],
            "needs_background": "light"
          }
        }
      ]
    },
    {
      "cell_type": "code",
      "metadata": {
        "id": "ivUMUTRwhZqd",
        "colab_type": "code",
        "outputId": "c225d99e-65e6-43c1-b06f-993c8b4af25a",
        "colab": {
          "base_uri": "https://localhost:8080/",
          "height": 34
        }
      },
      "source": [
        "#testing on the test set\n",
        "\n",
        "correct = 0\n",
        "total = 0\n",
        "with torch.no_grad():\n",
        "    cnt=0\n",
        "    for data in test_dataloader:\n",
        "        cnt+=1\n",
        "        images, labels = data\n",
        "        images = images.cuda() \n",
        "        labels = labels.cuda() \n",
        "\n",
        "        outputs,outputs2 = net(images)\n",
        "        _, predicted = torch.max(outputs.data, 1)\n",
        "        total += labels.size(0)\n",
        "        correct += (predicted == labels).sum().item()\n",
        "\n",
        "print('Accuracy of the network on the 59000 test images: %d %%' % (\n",
        "    100 * correct / total))"
      ],
      "execution_count": 14,
      "outputs": [
        {
          "output_type": "stream",
          "text": [
            "Accuracy of the network on the 59000 test images: 31 %\n"
          ],
          "name": "stdout"
        }
      ]
    },
    {
      "cell_type": "code",
      "metadata": {
        "id": "Q51gI55qiFJB",
        "colab_type": "code",
        "outputId": "925b2712-2541-480d-e72b-fe264f3a8820",
        "colab": {
          "base_uri": "https://localhost:8080/",
          "height": 187
        }
      },
      "source": [
        "#which lables were good\n",
        "class_correct = list(0. for i in range(10))\n",
        "class_total = list(0. for i in range(10))\n",
        "with torch.no_grad():\n",
        "    for data in test_dataloader:\n",
        "        images, labels = data\n",
        "        images = images.cuda() \n",
        "        labels = labels.cuda() \n",
        "\n",
        "        outputs,outputs2 = net(images)\n",
        "        _, predicted = torch.max(outputs, 1)\n",
        "        c = (predicted == labels).squeeze()\n",
        "        for i in range(4):\n",
        "            label = labels[i]\n",
        "            class_correct[label] += c[i].item()\n",
        "            class_total[label] += 1\n",
        "\n",
        "\n",
        "for i in range(10):\n",
        "    print('Accuracy of %5s : %2d %%' % (\n",
        "        classes[i], 100 * class_correct[i] / class_total[i]))"
      ],
      "execution_count": 17,
      "outputs": [
        {
          "output_type": "stream",
          "text": [
            "Accuracy of plane : 56 %\n",
            "Accuracy of   car : 42 %\n",
            "Accuracy of  bird : 28 %\n",
            "Accuracy of   cat :  9 %\n",
            "Accuracy of  deer :  4 %\n",
            "Accuracy of   dog : 37 %\n",
            "Accuracy of  frog : 42 %\n",
            "Accuracy of horse : 40 %\n",
            "Accuracy of  ship : 22 %\n",
            "Accuracy of truck : 31 %\n"
          ],
          "name": "stdout"
        }
      ]
    },
    {
      "cell_type": "code",
      "metadata": {
        "id": "CZdzbCC5csbC",
        "colab_type": "code",
        "colab": {}
      },
      "source": [
        "PATH='modified_model_1k_2'\n",
        "\n",
        "torch.save({\n",
        "            'epoch': epoch,\n",
        "            'model_state_dict': net.state_dict(),\n",
        "            'optimizer_state_dict': optimizer.state_dict(),\n",
        "            'loss': criterion\n",
        "            }, PATH)"
      ],
      "execution_count": 0,
      "outputs": []
    }
  ]
}